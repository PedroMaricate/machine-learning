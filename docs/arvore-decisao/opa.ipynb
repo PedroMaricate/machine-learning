{
 "cells": [
  {
   "cell_type": "code",
   "execution_count": null,
   "id": "7bf62928",
   "metadata": {},
   "outputs": [
    {
     "name": "stdout",
     "output_type": "stream",
     "text": [
      "      gender  international   gpa       major      race   gmat  work_exp  \\\n",
      "3064  Female          False  3.16    Business  Hispanic  660.0       4.0   \n",
      "2013    Male          False  3.55  Humanities     Black  690.0       5.0   \n",
      "2735    Male           True  2.86    Business       NaN  570.0       4.0   \n",
      "4605  Female          False  3.17        STEM     Black  620.0       6.0   \n",
      "2441  Female          False  3.40  Humanities     White  690.0       5.0   \n",
      "2183  Female          False  3.13  Humanities     Asian  660.0       4.0   \n",
      "5134    Male          False  3.35  Humanities  Hispanic  750.0       4.0   \n",
      "2368  Female          False  3.32    Business  Hispanic  670.0       6.0   \n",
      "1592  Female          False  3.03  Humanities  Hispanic  600.0       5.0   \n",
      "2537    Male          False  3.25  Humanities     Asian  660.0       4.0   \n",
      "\n",
      "           work_industry admission  \n",
      "3064  Financial Services       NaN  \n",
      "2013         Health Care       NaN  \n",
      "2735          Consulting       NaN  \n",
      "4605       Nonprofit/Gov       NaN  \n",
      "2441  Financial Services       NaN  \n",
      "2183          Consulting       NaN  \n",
      "5134          Consulting     Admit  \n",
      "2368  Investment Banking       NaN  \n",
      "1592          Consulting       NaN  \n",
      "2537  Financial Services       NaN  \n"
     ]
    },
    {
     "name": "stderr",
     "output_type": "stream",
     "text": [
      "C:\\Users\\pedro.maricate\\AppData\\Local\\Temp\\ipykernel_24652\\1817148972.py:5: FutureWarning: A value is trying to be set on a copy of a DataFrame or Series through chained assignment using an inplace method.\n",
      "The behavior will change in pandas 3.0. This inplace method will never work because the intermediate object on which we are setting values always behaves as a copy.\n",
      "\n",
      "For example, when doing 'df[col].method(value, inplace=True)', try using 'df.method({col: value}, inplace=True)' or df[col] = df[col].method(value) instead, to perform the operation inplace on the original object.\n",
      "\n",
      "\n",
      "  df['admission'].fillna({\"admission\": 0}, inplace=True)\n",
      "C:\\Users\\pedro.maricate\\AppData\\Local\\Temp\\ipykernel_24652\\1817148972.py:16: FutureWarning: A value is trying to be set on a copy of a DataFrame or Series through chained assignment using an inplace method.\n",
      "The behavior will change in pandas 3.0. This inplace method will never work because the intermediate object on which we are setting values always behaves as a copy.\n",
      "\n",
      "For example, when doing 'df[col].method(value, inplace=True)', try using 'df.method({col: value}, inplace=True)' or df[col] = df[col].method(value) instead, to perform the operation inplace on the original object.\n",
      "\n",
      "\n",
      "  df['admission'].fillna({\"admission\": 0}, inplace=True)\n"
     ]
    }
   ],
   "source": [
    "import pandas as pd\n",
    "\n",
    "def preprocess(df):\n",
    "    # Fill missing values\n",
    "    df['admission'].fillna({\"admission\": 0}, inplace=True)\n",
    "    # Select features\n",
    "    features = ['gender', 'international', 'gpa', 'major', 'race', 'gmat', 'work_exp', 'work_industry', 'admission']\n",
    "    return df[features]\n",
    "\n",
    "# Load the dataset\n",
    "df = pd.read_csv('C:/Users/pedro.maricate/Downloads/baseMBA/MBA.csv')\n",
    "\n",
    "df = df.sample(n=10)\n",
    "# Preprocessing\n",
    "df = preprocess(df)\n",
    "df['admission'] = df['admission'].fillna({\"admission\": 0}, inplace=True)\n",
    "# Display the first few rows of the dataset\n",
    "print(df)\n",
    "\n",
    "\n"
   ]
  },
  {
   "cell_type": "code",
   "execution_count": null,
   "id": "ea1620bf",
   "metadata": {},
   "outputs": [],
   "source": []
  }
 ],
 "metadata": {
  "kernelspec": {
   "display_name": "Python 3",
   "language": "python",
   "name": "python3"
  },
  "language_info": {
   "codemirror_mode": {
    "name": "ipython",
    "version": 3
   },
   "file_extension": ".py",
   "mimetype": "text/x-python",
   "name": "python",
   "nbconvert_exporter": "python",
   "pygments_lexer": "ipython3",
   "version": "3.13.2"
  }
 },
 "nbformat": 4,
 "nbformat_minor": 5
}
